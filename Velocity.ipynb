{
 "cells": [
  {
   "cell_type": "markdown",
   "metadata": {},
   "source": [
    "# Transaction Volumes & Velocity Algorithm for Calculations"
   ]
  },
  {
   "cell_type": "markdown",
   "metadata": {},
   "source": [
    "This iPython script contains the algorithm used to parse BitShares's blockchain for the trading history for the top 250 BTS token holders in order to estimate the velocity of money for BTS tokens in the past year. A list of top BTS holders is available at http://cryptofresh.com/a/BTS. The file (\"BTS_top_holders.csv\") shown in script below contains the list of top BTS holders as of 17 February 2018.\n"
   ]
  },
  {
   "cell_type": "code",
   "execution_count": 1,
   "metadata": {},
   "outputs": [],
   "source": [
    "import pandas as pd\n",
    "from datetime import datetime, timedelta, date\n",
    "from bts_blockchain_parser import History\n",
    "from bitshares.account import Account\n",
    "\n",
    "history = History()\n",
    "\n",
    "def transactions(account_name):\n",
    "    # This function parses the BitShares blockchain for the BTS transfers and filled orders that \n",
    "    # took place in the past year and aggregates the transaction volume.\n",
    "        \n",
    "    account = Account(account_name)\n",
    "    volume = 0\n",
    "    \n",
    "    # The block number that represents 1 year ago (so we'll know how far to go back).\n",
    "    block_num_threshold = history.block_search(datetime.now() - timedelta(days = 365))\n",
    "    for trade in account.history(only_ops = [\"transfer\", \"fill_order\"]):\n",
    "        if trade.get(\"block_num\") > block_num_threshold:\n",
    "            if \"amount\" in trade[\"op\"][1]:\n",
    "                if trade[\"op\"][1][\"amount\"].get(\"asset_id\") == \"1.3.0\":\n",
    "                    volume = volume + int(trade[\"op\"][1][\"amount\"].get(\"amount\"))\n",
    "            else:\n",
    "                pass\n",
    "    return (volume/100000)\n",
    "\n",
    "\n",
    "top_accounts = pd.read_csv(\"BTS_top_holders.csv\", index_col = [\"Rank\"])\n",
    "top_accounts[\"Transaction Volume\"] = top_accounts[\"Account\"].apply(transactions)\n",
    "top_accounts[\"Transaction Volume\"].astype(int)\n",
    "top_accounts[\"Velocity\"] = top_accounts[\"Transaction Volume\"]/top_accounts[\"Holdings\"]"
   ]
  },
  {
   "cell_type": "code",
   "execution_count": 2,
   "metadata": {},
   "outputs": [
    {
     "data": {
      "text/html": [
       "<div>\n",
       "<style scoped>\n",
       "    .dataframe tbody tr th:only-of-type {\n",
       "        vertical-align: middle;\n",
       "    }\n",
       "\n",
       "    .dataframe tbody tr th {\n",
       "        vertical-align: top;\n",
       "    }\n",
       "\n",
       "    .dataframe thead th {\n",
       "        text-align: right;\n",
       "    }\n",
       "</style>\n",
       "<table border=\"1\" class=\"dataframe\">\n",
       "  <thead>\n",
       "    <tr style=\"text-align: right;\">\n",
       "      <th></th>\n",
       "      <th>Account</th>\n",
       "      <th>Balance</th>\n",
       "      <th>Collateral</th>\n",
       "      <th>Holdings</th>\n",
       "      <th>Transaction Volume</th>\n",
       "      <th>Velocity</th>\n",
       "    </tr>\n",
       "    <tr>\n",
       "      <th>Rank</th>\n",
       "      <th></th>\n",
       "      <th></th>\n",
       "      <th></th>\n",
       "      <th></th>\n",
       "      <th></th>\n",
       "      <th></th>\n",
       "    </tr>\n",
       "  </thead>\n",
       "  <tbody>\n",
       "    <tr>\n",
       "      <th>1</th>\n",
       "      <td>poloniexcoldstorage</td>\n",
       "      <td>230001204</td>\n",
       "      <td>-</td>\n",
       "      <td>230001204</td>\n",
       "      <td>6.000000e+07</td>\n",
       "      <td>0.260868</td>\n",
       "    </tr>\n",
       "    <tr>\n",
       "      <th>2</th>\n",
       "      <td>binance-cold-1</td>\n",
       "      <td>114787664</td>\n",
       "      <td>-</td>\n",
       "      <td>114787664</td>\n",
       "      <td>1.147877e+08</td>\n",
       "      <td>1.000000</td>\n",
       "    </tr>\n",
       "    <tr>\n",
       "      <th>3</th>\n",
       "      <td>binance-bitshares-gvbdb84k6h</td>\n",
       "      <td>82097772</td>\n",
       "      <td>-</td>\n",
       "      <td>82097772</td>\n",
       "      <td>1.153550e+06</td>\n",
       "      <td>0.014051</td>\n",
       "    </tr>\n",
       "    <tr>\n",
       "      <th>4</th>\n",
       "      <td>zbbts</td>\n",
       "      <td>77720941</td>\n",
       "      <td>-</td>\n",
       "      <td>77720941</td>\n",
       "      <td>2.332845e+04</td>\n",
       "      <td>0.000300</td>\n",
       "    </tr>\n",
       "    <tr>\n",
       "      <th>5</th>\n",
       "      <td>delta-lion</td>\n",
       "      <td>916</td>\n",
       "      <td>72832248</td>\n",
       "      <td>72833164</td>\n",
       "      <td>0.000000e+00</td>\n",
       "      <td>0.000000</td>\n",
       "    </tr>\n",
       "  </tbody>\n",
       "</table>\n",
       "</div>"
      ],
      "text/plain": [
       "                           Account    Balance Collateral   Holdings  \\\n",
       "Rank                                                                  \n",
       "1              poloniexcoldstorage  230001204          -  230001204   \n",
       "2                   binance-cold-1  114787664          -  114787664   \n",
       "3     binance-bitshares-gvbdb84k6h   82097772          -   82097772   \n",
       "4                            zbbts   77720941          -   77720941   \n",
       "5                       delta-lion        916   72832248   72833164   \n",
       "\n",
       "      Transaction Volume  Velocity  \n",
       "Rank                                \n",
       "1           6.000000e+07  0.260868  \n",
       "2           1.147877e+08  1.000000  \n",
       "3           1.153550e+06  0.014051  \n",
       "4           2.332845e+04  0.000300  \n",
       "5           0.000000e+00  0.000000  "
      ]
     },
     "execution_count": 2,
     "metadata": {},
     "output_type": "execute_result"
    }
   ],
   "source": [
    "top_accounts.head()"
   ]
  },
  {
   "cell_type": "code",
   "execution_count": 3,
   "metadata": {},
   "outputs": [],
   "source": [
    "top_accounts.to_csv(\"top_holders_list.csv\")"
   ]
  }
 ],
 "metadata": {
  "kernelspec": {
   "display_name": "Python 3",
   "language": "python",
   "name": "python3"
  },
  "language_info": {
   "codemirror_mode": {
    "name": "ipython",
    "version": 3
   },
   "file_extension": ".py",
   "mimetype": "text/x-python",
   "name": "python",
   "nbconvert_exporter": "python",
   "pygments_lexer": "ipython3",
   "version": "3.6.3"
  }
 },
 "nbformat": 4,
 "nbformat_minor": 2
}
